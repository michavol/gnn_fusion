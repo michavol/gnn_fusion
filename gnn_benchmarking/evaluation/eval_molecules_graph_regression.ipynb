{
 "cells": [
  {
   "cell_type": "markdown",
   "metadata": {},
   "source": [
    "## Notebook to evaluate molecule graph regression models (individual, fused or ensemble)"
   ]
  },
  {
   "cell_type": "code",
   "execution_count": 3,
   "metadata": {},
   "outputs": [],
   "source": [
    "\"\"\"\n",
    "    IMPORTING LIBS\n",
    "\"\"\"\n",
    "import dgl\n",
    "\n",
    "import numpy as np\n",
    "import os\n",
    "import socket\n",
    "import time\n",
    "import random\n",
    "import glob\n",
    "import argparse, json\n",
    "import pickle\n",
    "\n",
    "import torch\n",
    "import torch.nn as nn\n",
    "import torch.nn.functional as F\n",
    "\n",
    "import torch.optim as optim\n",
    "from torch.utils.data import DataLoader\n",
    "\n",
    "from tensorboardX import SummaryWriter\n",
    "from tqdm import tqdm"
   ]
  },
  {
   "cell_type": "code",
   "execution_count": 11,
   "metadata": {},
   "outputs": [],
   "source": [
    "import train.train_molecules_graph_regression as train"
   ]
  },
  {
   "cell_type": "code",
   "execution_count": 4,
   "metadata": {},
   "outputs": [
    {
     "name": "stdout",
     "output_type": "stream",
     "text": [
      "True\n"
     ]
    }
   ],
   "source": [
    "# \"\"\"\n",
    "#     AUTORELOAD IPYTHON EXTENSION FOR RELOADING IMPORTED MODULES\n",
    "# \"\"\"\n",
    "\n",
    "def in_ipynb():\n",
    "    try:\n",
    "        cfg = get_ipython().config \n",
    "        return True\n",
    "    except NameError:\n",
    "        return False\n",
    "    \n",
    "notebook_mode = in_ipynb()\n",
    "print(notebook_mode)\n",
    "\n",
    "if notebook_mode == True:\n",
    "    %load_ext autoreload\n",
    "    %autoreload 2"
   ]
  },
  {
   "cell_type": "markdown",
   "metadata": {},
   "source": [
    "Copy of params for testing purposes -> change to read from txt file from output"
   ]
  },
  {
   "cell_type": "code",
   "execution_count": 1,
   "metadata": {},
   "outputs": [
    {
     "name": "stdout",
     "output_type": "stream",
     "text": [
      "/home/ehoskovec/Workspace/ETH/master/sem3/deepLearning/Project/gnn_fusion/gnn_benchmarking\n"
     ]
    }
   ],
   "source": [
    "import os\n",
    "os.chdir('../') # go to root folder of the project\n",
    "print(os.getcwd())"
   ]
  },
  {
   "cell_type": "code",
   "execution_count": 2,
   "metadata": {},
   "outputs": [
    {
     "name": "stderr",
     "output_type": "stream",
     "text": [
      "Using backend: pytorch\n",
      "WARNING:root:The OGB package is out of date. Your version is 1.3.5, while the latest version is 1.3.6.\n"
     ]
    }
   ],
   "source": [
    "\"\"\"\n",
    "    IMPORTING CUSTOM MODULES/METHODS\n",
    "\"\"\"\n",
    "from nets.molecules_graph_regression.load_net import gnn_model # import all GNNS\n",
    "from data.data import LoadData # import dataset"
   ]
  },
  {
   "cell_type": "code",
   "execution_count": 5,
   "metadata": {},
   "outputs": [
    {
     "name": "stdout",
     "output_type": "stream",
     "text": [
      "[I] Loading data (notebook) ...\n",
      "[I] Loading dataset ZINC...\n",
      "train, test, val sizes : 10000 1000 1000\n",
      "[I] Finished loading.\n",
      "[I] Data load time: 14.1761s\n",
      "[I] Finished loading.\n"
     ]
    }
   ],
   "source": [
    "# \"\"\"\n",
    "#     USER CONTROLS\n",
    "# \"\"\"\n",
    "if notebook_mode == True:\n",
    "    \n",
    "    #MODEL_NAME = '3WLGNN'\n",
    "    #MODEL_NAME = 'RingGNN'\n",
    "    #MODEL_NAME = 'GatedGCN'\n",
    "    #MODEL_NAME = 'MoNet'\n",
    "    MODEL_NAME = 'GCN'\n",
    "    # MODEL_NAME = 'GAT'\n",
    "    # MODEL_NAME = 'GraphSage'\n",
    "    # MODEL_NAME = 'DiffPool'\n",
    "    # MODEL_NAME = 'MLP'\n",
    "    # MODEL_NAME = 'GIN'\n",
    "\n",
    "    DATASET_NAME = 'ZINC'\n",
    "\n",
    "    out_dir = 'out/molecules_graph_regression/'\n",
    "    root_log_dir = out_dir + 'logs/' + MODEL_NAME + \"_\" + DATASET_NAME + \"_\" + time.strftime('%Hh%Mm%Ss_on_%b_%d_%Y')\n",
    "    root_ckpt_dir = out_dir + 'checkpoints/' + MODEL_NAME + \"_\" + DATASET_NAME + \"_\" + time.strftime('%Hh%Mm%Ss_on_%b_%d_%Y')\n",
    "\n",
    "    print(\"[I] Loading data (notebook) ...\")\n",
    "    dataset = LoadData(DATASET_NAME)\n",
    "    trainset, valset, testset = dataset.train, dataset.val, dataset.test\n",
    "    print(\"[I] Finished loading.\")"
   ]
  },
  {
   "cell_type": "code",
   "execution_count": 6,
   "metadata": {},
   "outputs": [],
   "source": [
    "MODEL_NAME = 'GCN'\n",
    "use_gpu = False; gpu_id = -1; device = None # CPU"
   ]
  },
  {
   "cell_type": "code",
   "execution_count": 7,
   "metadata": {},
   "outputs": [],
   "source": [
    "# \"\"\"\n",
    "#     PARAMETERS\n",
    "# \"\"\"\n",
    "if notebook_mode == True:\n",
    "\n",
    "    n_heads = -1\n",
    "    edge_feat = False\n",
    "    pseudo_dim_MoNet = -1\n",
    "    kernel = -1\n",
    "    gnn_per_block = -1\n",
    "    embedding_dim = -1\n",
    "    pool_ratio = -1\n",
    "    n_mlp_GIN = -1\n",
    "    gated = False\n",
    "    self_loop = False\n",
    "    #self_loop = True\n",
    "    max_time = 1\n",
    "    pos_enc = True\n",
    "    #pos_enc = False\n",
    "    pos_enc_dim = 8\n",
    "    \n",
    "\n",
    "    if MODEL_NAME == 'GatedGCN':\n",
    "        seed=41; epochs=1000; batch_size=5; init_lr=5e-5; lr_reduce_factor=0.5; lr_schedule_patience=25; min_lr = 1e-6; weight_decay=0\n",
    "        L=4; hidden_dim=70; out_dim=hidden_dim; dropout=0.0; readout='mean'\n",
    "\n",
    "    if MODEL_NAME == 'GCN':\n",
    "        seed=68; epochs=5; batch_size=5; init_lr=5e-5; lr_reduce_factor=0.3; lr_schedule_patience=25; min_lr = 1e-6; weight_decay=0\n",
    "        L=4; hidden_dim=145; out_dim=hidden_dim; dropout=0.0; readout='mean'\n",
    "\n",
    "    if MODEL_NAME == 'GAT':\n",
    "        seed=41; epochs=1000; batch_size=50; init_lr=5e-5; lr_reduce_factor=0.5; lr_schedule_patience=25; min_lr = 1e-6; weight_decay=0\n",
    "        L=4; n_heads=8; hidden_dim=18; out_dim=n_heads*hidden_dim; dropout=0.0; readout='mean'\n",
    "        print('True hidden dim:',out_dim)\n",
    "\n",
    "    if MODEL_NAME == 'GraphSage':\n",
    "        seed=41; epochs=1000; batch_size=50; init_lr=5e-5; lr_reduce_factor=0.5; lr_schedule_patience=25; min_lr = 1e-6; weight_decay=0\n",
    "        L=4; hidden_dim=108; out_dim=hidden_dim; dropout=0.0; readout='mean'\n",
    "\n",
    "    if MODEL_NAME == 'MLP':\n",
    "        seed=41; epochs=1000; batch_size=50; init_lr=5e-4; lr_reduce_factor=0.5; lr_schedule_patience=25; min_lr = 1e-6; weight_decay=0\n",
    "        gated=False; # MEAN\n",
    "        L=4; hidden_dim=150; out_dim=hidden_dim; dropout=0.0; readout='mean'\n",
    "        gated=True; # GATED\n",
    "        L=4; hidden_dim=135; out_dim=hidden_dim; dropout=0.0; readout='mean'\n",
    "        \n",
    "    if MODEL_NAME == 'DiffPool':\n",
    "        seed=41; epochs=1000; batch_size=50; init_lr=5e-4; lr_reduce_factor=0.5; lr_schedule_patience=25; min_lr = 1e-6; weight_decay=0\n",
    "        L=4; hidden_dim=56; out_dim=hidden_dim; dropout=0.0; readout='mean'\n",
    "        n_heads=8; gnn_per_block=3; embedding_dim=hidden_dim; batch_size=128; pool_ratio=0.15\n",
    "\n",
    "    if MODEL_NAME == 'GIN':\n",
    "        seed=41; epochs=1000; batch_size=50; init_lr=5e-4; lr_reduce_factor=0.5; lr_schedule_patience=25; min_lr = 1e-6; weight_decay=0\n",
    "        L=4; hidden_dim=110; out_dim=hidden_dim; dropout=0.0; readout='mean'\n",
    "        n_mlp_GIN = 2; learn_eps_GIN=True; neighbor_aggr_GIN='sum'\n",
    "\n",
    "    if MODEL_NAME == 'MoNet':\n",
    "        seed=41; epochs=1000; batch_size=50; init_lr=5e-4; lr_reduce_factor=0.5; lr_schedule_patience=25; min_lr = 1e-6; weight_decay=0\n",
    "        L=4; hidden_dim=90; out_dim=hidden_dim; dropout=0.0; readout='mean'\n",
    "        pseudo_dim_MoNet=2; kernel=3;\n",
    "    \n",
    "    if MODEL_NAME == 'RingGNN':\n",
    "        seed=41; epochs=1000; batch_size=1; init_lr=5e-5; lr_reduce_factor=0.5; lr_schedule_patience=25; min_lr = 1e-6; weight_decay=0\n",
    "        #L=4; hidden_dim=145; out_dim=hidden_dim; dropout=0.0; readout='mean'\n",
    "        L=4; hidden_dim=22; out_dim=hidden_dim; dropout=0.0; edge_feat=False\n",
    "    \n",
    "    if MODEL_NAME == '3WLGNN':\n",
    "        seed=41; epochs=1000; batch_size=1; init_lr=5e-5; lr_reduce_factor=0.5; lr_schedule_patience=25; min_lr = 1e-6; weight_decay=0\n",
    "        #L=4; hidden_dim=145; out_dim=hidden_dim; dropout=0.0; readout='mean'\n",
    "        L=3; hidden_dim=79; out_dim=hidden_dim; dropout=0.0; edge_feat=False\n",
    "        \n",
    "        \n",
    "    # generic new_params\n",
    "    net_params = {}\n",
    "    net_params['device'] = device\n",
    "    net_params['num_atom_type'] = dataset.num_atom_type\n",
    "    net_params['num_bond_type'] = dataset.num_bond_type\n",
    "    net_params['residual'] = True\n",
    "    net_params['hidden_dim'] = hidden_dim\n",
    "    net_params['out_dim'] = out_dim\n",
    "    net_params['n_heads'] = n_heads\n",
    "    net_params['L'] = L  # min L should be 2\n",
    "    net_params['readout'] = \"sum\"\n",
    "    net_params['layer_norm'] = True\n",
    "    net_params['batch_norm'] = True\n",
    "    net_params['in_feat_dropout'] = 0.0\n",
    "    net_params['dropout'] = 0.0\n",
    "    net_params['edge_feat'] = edge_feat\n",
    "    net_params['self_loop'] = self_loop\n",
    "\n",
    "    # for MLPNet \n",
    "    net_params['gated'] = gated  \n",
    "    \n",
    "    # specific for MoNet\n",
    "    net_params['pseudo_dim_MoNet'] = pseudo_dim_MoNet\n",
    "    net_params['kernel'] = kernel\n",
    "    \n",
    "    # specific for GIN\n",
    "    net_params['n_mlp_GIN'] = n_mlp_GIN\n",
    "    net_params['learn_eps_GIN'] = True\n",
    "    net_params['neighbor_aggr_GIN'] = 'sum'\n",
    "    \n",
    "    # specific for graphsage\n",
    "    net_params['sage_aggregator'] = 'meanpool'    \n",
    "\n",
    "    # specific for diffpoolnet\n",
    "    net_params['data_mode'] = 'default'\n",
    "    net_params['gnn_per_block'] = gnn_per_block\n",
    "    net_params['embedding_dim'] = embedding_dim     \n",
    "    net_params['pool_ratio'] = pool_ratio\n",
    "    net_params['linkpred'] = True\n",
    "    net_params['num_pool'] = 1\n",
    "    net_params['cat'] = False\n",
    "    net_params['batch_size'] = batch_size   \n",
    "    \n",
    "    # specific for RingGNN\n",
    "    net_params['radius'] = 2\n",
    "    num_nodes = [trainset[i][0].number_of_nodes() for i in range(len(trainset))]\n",
    "    net_params['avg_node_num'] = int(np.ceil(np.mean(num_nodes)))\n",
    "    \n",
    "    # specific for 3WLGNN\n",
    "    net_params['depth_of_mlp'] = 2\n",
    "\n",
    "    # calculate assignment dimension: pool_ratio * largest graph's maximum\n",
    "    # number of nodes  in the dataset\n",
    "    max_num_node = max(num_nodes)\n",
    "    net_params['assign_dim'] = int(max_num_node * net_params['pool_ratio']) * net_params['batch_size']\n",
    "    \n",
    "    # specific for pos_enc_dim\n",
    "    net_params['pos_enc'] = pos_enc\n",
    "    net_params['pos_enc_dim'] = pos_enc_dim\n",
    "    "
   ]
  },
  {
   "cell_type": "code",
   "execution_count": 8,
   "metadata": {},
   "outputs": [
    {
     "data": {
      "text/plain": [
       "GCNNet(\n",
       "  (in_feat_dropout): Dropout(p=0.0, inplace=False)\n",
       "  (embedding_h): Embedding(28, 145)\n",
       "  (layers): ModuleList(\n",
       "    (0): GCNLayer(in_channels=145, out_channels=145, residual=True)\n",
       "    (1): GCNLayer(in_channels=145, out_channels=145, residual=True)\n",
       "    (2): GCNLayer(in_channels=145, out_channels=145, residual=True)\n",
       "    (3): GCNLayer(in_channels=145, out_channels=145, residual=True)\n",
       "  )\n",
       "  (MLP_layer): MLPReadout(\n",
       "    (FC_layers): ModuleList(\n",
       "      (0): Linear(in_features=145, out_features=72, bias=True)\n",
       "      (1): Linear(in_features=72, out_features=36, bias=True)\n",
       "      (2): Linear(in_features=36, out_features=1, bias=True)\n",
       "    )\n",
       "  )\n",
       ")"
      ]
     },
     "execution_count": 8,
     "metadata": {},
     "output_type": "execute_result"
    }
   ],
   "source": [
    "\"\"\"\n",
    "    IMPORTING MODELS\n",
    "\"\"\"\n",
    "#file_name = \"gnn_benchmarking/out/molecules_graph_regression/checkpoints/GCN_ZINC_GPU-1_15h26m48s_on_Nov_22_2023\"\n",
    "\n",
    "model = gnn_model(MODEL_NAME, net_params)\n",
    "model.load_state_dict(torch.load(\"out/molecules_graph_regression/checkpoints/GCN_ZINC_GPU-1_15h26m48s_on_Nov_22_2023/RUN_/final.pkl\"))\n",
    "model.eval()"
   ]
  },
  {
   "cell_type": "code",
   "execution_count": 16,
   "metadata": {},
   "outputs": [
    {
     "name": "stdout",
     "output_type": "stream",
     "text": [
      "Train MAE: 0.6608\n"
     ]
    }
   ],
   "source": [
    "test_loader = DataLoader(testset, batch_size=5, shuffle=False, drop_last=False, collate_fn=dataset.collate)\n",
    "_, test_mae = train.evaluate_network_sparse(model, device, test_loader, 0)\n",
    "print(\"Train MAE: {:.4f}\".format(test_mae))"
   ]
  },
  {
   "cell_type": "code",
   "execution_count": null,
   "metadata": {},
   "outputs": [],
   "source": []
  },
  {
   "cell_type": "code",
   "execution_count": null,
   "metadata": {},
   "outputs": [],
   "source": []
  }
 ],
 "metadata": {
  "kernelspec": {
   "display_name": "iml",
   "language": "python",
   "name": "python3"
  },
  "language_info": {
   "codemirror_mode": {
    "name": "ipython",
    "version": 3
   },
   "file_extension": ".py",
   "mimetype": "text/x-python",
   "name": "python",
   "nbconvert_exporter": "python",
   "pygments_lexer": "ipython3",
   "version": "3.9.18"
  }
 },
 "nbformat": 4,
 "nbformat_minor": 2
}
