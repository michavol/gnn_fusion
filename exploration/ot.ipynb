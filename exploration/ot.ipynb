{
 "cells": [
  {
   "cell_type": "code",
   "execution_count": 6,
   "metadata": {},
   "outputs": [
    {
     "ename": "ModuleNotFoundError",
     "evalue": "No module named 'jax'",
     "output_type": "error",
     "traceback": [
      "\u001b[0;31m---------------------------------------------------------------------------\u001b[0m",
      "\u001b[0;31mModuleNotFoundError\u001b[0m                       Traceback (most recent call last)",
      "\u001b[1;32m/home/mike/Masters_DS/gnn_fusion/exploration/ot.ipynb Cell 1\u001b[0m line \u001b[0;36m8\n\u001b[1;32m      <a href='vscode-notebook-cell:/home/mike/Masters_DS/gnn_fusion/exploration/ot.ipynb#W0sZmlsZQ%3D%3D?line=5'>6</a>\u001b[0m \u001b[39mimport\u001b[39;00m \u001b[39mtqdm\u001b[39;00m\n\u001b[1;32m      <a href='vscode-notebook-cell:/home/mike/Masters_DS/gnn_fusion/exploration/ot.ipynb#W0sZmlsZQ%3D%3D?line=6'>7</a>\u001b[0m \u001b[39mimport\u001b[39;00m \u001b[39mtorch\u001b[39;00m\n\u001b[0;32m----> <a href='vscode-notebook-cell:/home/mike/Masters_DS/gnn_fusion/exploration/ot.ipynb#W0sZmlsZQ%3D%3D?line=7'>8</a>\u001b[0m \u001b[39mimport\u001b[39;00m \u001b[39mjax\u001b[39;00m\n\u001b[1;32m      <a href='vscode-notebook-cell:/home/mike/Masters_DS/gnn_fusion/exploration/ot.ipynb#W0sZmlsZQ%3D%3D?line=8'>9</a>\u001b[0m \u001b[39mimport\u001b[39;00m \u001b[39mjax\u001b[39;00m\u001b[39m.\u001b[39;00m\u001b[39mnumpy\u001b[39;00m \u001b[39mas\u001b[39;00m \u001b[39mjnp\u001b[39;00m\n\u001b[1;32m     <a href='vscode-notebook-cell:/home/mike/Masters_DS/gnn_fusion/exploration/ot.ipynb#W0sZmlsZQ%3D%3D?line=9'>10</a>\u001b[0m \u001b[39mimport\u001b[39;00m \u001b[39mnetworkx\u001b[39;00m \u001b[39mas\u001b[39;00m \u001b[39mnx\u001b[39;00m\n",
      "\u001b[0;31mModuleNotFoundError\u001b[0m: No module named 'jax'"
     ]
    }
   ],
   "source": [
    "import os\n",
    "\n",
    "os.environ[\"DGLBACKEND\"] = \"pytorch\"\n",
    "import dgl\n",
    "import numpy as np\n",
    "import tqdm\n",
    "import torch\n",
    "import jax\n",
    "import jax.numpy as jnp\n",
    "import networkx as nx\n",
    "import matplotlib.pyplot as plt\n",
    "from dgl import AddReverse\n",
    "\n",
    "from ott import utils\n",
    "from ott.math import utils as mu\n",
    "from ott.geometry import geometry, pointcloud\n",
    "from ott.geometry.graph import Graph\n",
    "from ott.solvers.linear import sinkhorn, sinkhorn_lr\n",
    "from ott.problems.linear import linear_problem\n",
    "from ott.problems.quadratic import quadratic_problem\n",
    "from ott.solvers.quadratic import gromov_wasserstein\n",
    "import tqdm"
   ]
  },
  {
   "cell_type": "markdown",
   "metadata": {},
   "source": [
    "## OT for GNN Fusion"
   ]
  },
  {
   "cell_type": "code",
   "execution_count": null,
   "metadata": {},
   "outputs": [],
   "source": [
    "# GPU setup"
   ]
  },
  {
   "cell_type": "markdown",
   "metadata": {},
   "source": [
    "### Sample Data"
   ]
  },
  {
   "cell_type": "code",
   "execution_count": 20,
   "metadata": {},
   "outputs": [],
   "source": [
    "# Prepare a possible input for OT problem\n",
    "import random \n",
    "\n",
    "# Create as many graphs as there are data points for generating activations\n",
    "n_data_graphs = 4\n",
    "data_graphs = []\n",
    "X_size = 5 # Corresponds to numbers of rows in convolution weight matrix of source model\n",
    "Y_size = 5 # Corresponds to numbers of rows in convolution weight matrix of target model\n",
    "X = [] # Activations for source\n",
    "Y = [] # Activations for target\n",
    "a = torch.ones(X_size)/X_size\n",
    "b = torch.ones(Y_size)/Y_size\n",
    "\n",
    "for i in range(n_data_graphs):\n",
    "    num_nodes = random.randint(5,10)\n",
    "    edge_indices_1 = [j for j in range(num_nodes)]\n",
    "    edge_indices_2 = [random.randint(0,num_nodes-1) for j in range(num_nodes)]\n",
    "    graph = dgl.graph((edge_indices_1, edge_indices_2), num_nodes=num_nodes)\n",
    "    data_graphs.append(graph)\n",
    "\n",
    "for i in range(X_size):\n",
    "    x = []\n",
    "    for graph in data_graphs:\n",
    "        graph_X = graph.clone()\n",
    "        num_nodes = graph_X.num_nodes()\n",
    "        #graph_X.ndata[\"Feature\"] = torch.randn(num_nodes,1)\n",
    "        graph_X.ndata[\"Feature\"] = torch.ones(num_nodes,1)*i\n",
    "        #graph_X.ndata[\"Feature\"] = torch.linspace(0,1,num_nodes)\n",
    "        x.append(graph_X)\n",
    "    X.append(x)\n",
    "\n",
    "for i in range(Y_size):\n",
    "    y = []\n",
    "    for graph in data_graphs:\n",
    "        graph_Y = graph.clone()\n",
    "        num_nodes = graph_Y.num_nodes()\n",
    "        #graph_Y.ndata[\"Feature\"] = torch.randn(num_nodes,1)\n",
    "        graph_Y.ndata[\"Feature\"] = torch.ones(num_nodes,1)*i*1.2\n",
    "        #graph_Y.ndata[\"Feature\"] = torch.linspace(0,1,num_nodes)\n",
    "        y.append(graph_Y)\n",
    "    Y.append(y)\n"
   ]
  },
  {
   "cell_type": "code",
   "execution_count": 11,
   "metadata": {},
   "outputs": [],
   "source": [
    "def _graph_metric_QE(graph_x, graph_y, alpha):\n",
    "    # Get features\n",
    "    x_features = graph_x.ndata[\"Feature\"]\n",
    "    y_features = graph_y.ndata[\"Feature\"]\n",
    "\n",
    "    # Get number of edges (here graph structure of x and y are assumed to be the same)\n",
    "    num_edges = graph_x.num_edges()\n",
    "    assert num_edges == graph_y.num_edges()\n",
    "    num_nodes = graph_x.num_nodes()\n",
    "    assert num_nodes == graph_y.num_nodes()\n",
    "\n",
    "    # Compute energy functional\n",
    "    edge_energy = 0\n",
    "    node_energy = 0\n",
    "\n",
    "    # Compute edge energy\n",
    "    for i in range(num_edges):\n",
    "        # Get indeces of connected nodes\n",
    "        out_node = graph_x.edges()[0][i]\n",
    "        in_node = graph_x.edges()[1][i]\n",
    "\n",
    "        # Get features of connected nodes of graphs x and y\n",
    "        x_out_feature = x_features[out_node]\n",
    "        y_in_feature = y_features[in_node]\n",
    "\n",
    "        # Compute cost\n",
    "        edge_energy += (x_out_feature - y_in_feature)**2 \n",
    "\n",
    "    # Compute node energy\n",
    "    for i in range(num_nodes):\n",
    "        # Get feature of node\n",
    "        x_feature = x_features[i]\n",
    "        y_feature = y_features[i]\n",
    "\n",
    "        # Compute cost\n",
    "        node_energy += (x_feature - y_feature)**2\n",
    "\n",
    "    # Compute weighted total energy\n",
    "    total_energy = alpha*edge_energy + (1-alpha)*node_energy\n",
    "\n",
    "    return total_energy\n",
    "        "
   ]
  },
  {
   "cell_type": "markdown",
   "metadata": {},
   "source": [
    "### Setup Cost Matrix"
   ]
  },
  {
   "cell_type": "markdown",
   "metadata": {},
   "source": [
    "#### Metrics Between Pairs of Graphs"
   ]
  },
  {
   "cell_type": "code",
   "execution_count": 12,
   "metadata": {},
   "outputs": [],
   "source": [
    "def _graph_metric_GW(graph_x, graph_y, loss='sqeucl', output_cost='primal', fused_penalty=1.0, epsilon=100, tau_a=1.0, tau_b=1.0, max_iterations=20, directed=False, normalize=True):\n",
    "    \"\"\"\n",
    "    Compute GW cost between two sets of dgl graphs\n",
    "    x, y are sets of dgl graphs\n",
    "    \"\"\"\n",
    "    # Extract features\n",
    "    x_features = graph_x.ndata[\"Feature\"]\n",
    "    y_features = graph_y.ndata[\"Feature\"]\n",
    "\n",
    "    # Extract adjacency matrices\n",
    "    adj_mat_x = graph_x.adjacency_matrix().to_dense()\n",
    "    adj_mat_y = graph_y.adjacency_matrix().to_dense()\n",
    "\n",
    "    # Create geometries\n",
    "    geom_xy = pointcloud.PointCloud(jnp.array(x_features), jnp.array(y_features), cost_fn=None)\n",
    "    geom_xx = Graph.from_graph(jnp.array(adj_mat_x), directed=directed, normalize=normalize)\n",
    "    geom_yy = Graph.from_graph(jnp.array(adj_mat_y), directed=directed, normalize=normalize)\n",
    "\n",
    "    # Create quadratic problem\n",
    "    prob = quadratic_problem.QuadraticProblem(geom_xx, geom_yy, geom_xy, \n",
    "                                            loss=loss,\n",
    "                                            fused_penalty=fused_penalty,\n",
    "                                            tau_a=tau_a, tau_b=tau_b,\n",
    "                                            ranks=-1)\n",
    "    \n",
    "    # Instantiate a jitt'ed Gromov-Wasserstein solver\n",
    "    solver = jax.jit(\n",
    "        gromov_wasserstein.GromovWasserstein(\n",
    "            epsilon=epsilon, max_iterations=max_iterations, store_inner_errors=True\n",
    "        )\n",
    "    )   \n",
    "\n",
    "    # Solve the problem\n",
    "    ot = solver(prob)\n",
    "\n",
    "    # Extract costs\n",
    "    if output_cost == 'primal':\n",
    "        primal_cost = ot.primal_cost\n",
    "        return primal_cost\n",
    "    elif output_cost == 'reg_gw':\n",
    "        reg_gw_cost = ot.reg_gw_cost\n",
    "        return reg_gw_cost\n",
    "\n",
    "def _graph_metric_QE(graph_x, graph_y, alpha):\n",
    "    # Get features\n",
    "    x_features = graph_x.ndata[\"Feature\"]\n",
    "    y_features = graph_y.ndata[\"Feature\"]\n",
    "\n",
    "    # Get number of edges (here graph structure of x and y are assumed to be the same)\n",
    "    num_edges = graph_x.num_edges()\n",
    "    assert num_edges == graph_y.num_edges()\n",
    "    num_nodes = graph_x.num_nodes()\n",
    "    assert num_nodes == graph_y.num_nodes()\n",
    "\n",
    "    # Compute energy functional\n",
    "    edge_energy = 0\n",
    "    node_energy = 0\n",
    "\n",
    "    # Compute edge energy\n",
    "    for i in range(num_edges):\n",
    "        # Get indices of connected nodes\n",
    "        out_node = graph_x.edges()[0][i]\n",
    "        in_node = graph_x.edges()[1][i]\n",
    "\n",
    "        # Get features of connected nodes of graphs x and y\n",
    "        x_out_feature = x_features[out_node]\n",
    "        y_in_feature = y_features[in_node]\n",
    "\n",
    "        # Compute cost\n",
    "        edge_energy += (x_out_feature - y_in_feature)**2 \n",
    "\n",
    "    # Compute node energy\n",
    "    for i in range(num_nodes):\n",
    "        # Get feature of node\n",
    "        x_feature = x_features[i]\n",
    "        y_feature = y_features[i]\n",
    "\n",
    "        # Compute cost\n",
    "        node_energy += (x_feature - y_feature)**2\n",
    "\n",
    "    # Compute weighted total energy\n",
    "    total_energy = alpha*edge_energy + (1-alpha)*node_energy\n",
    "\n",
    "    return total_energy\n"
   ]
  },
  {
   "cell_type": "markdown",
   "metadata": {},
   "source": [
    "#### Metrics For Geometry of OT Problem"
   ]
  },
  {
   "cell_type": "code",
   "execution_count": 13,
   "metadata": {},
   "outputs": [],
   "source": [
    "def _cost_fn_l2_GW(x, y, graph_metric):\n",
    "    \"\"\"\n",
    "    Cost function for GW-metric based OT problem\n",
    "    x, y are sets of dgl graphs - i.e. the GNN activations\n",
    "    \"\"\"\n",
    "    # Compute pairwise costs\n",
    "    cost = 0\n",
    "    num_graphs = len(x)\n",
    "    assert num_graphs == len(y)\n",
    "\n",
    "    for i in range(num_graphs):\n",
    "        cost += graph_metric(x[i], y[i])\n",
    "    return cost\n",
    "\n",
    "def _cost_fn_l2_QE(x, y, graph_metric, alpha):\n",
    "    \"\"\"\n",
    "    Cost function for QE-metric (quadratic energy) based OT problem\n",
    "    x, y are sets of dgl graphs - i.e. the GNN activations\n",
    "    \"\"\"\n",
    "    # Compute pairwise costs\n",
    "    cost = 0\n",
    "    num_graphs = len(x)\n",
    "    assert num_graphs == len(y)\n",
    "\n",
    "    for i in range(num_graphs):\n",
    "        cost += graph_metric(x[i], y[i], alpha)\n",
    "    return cost\n",
    "\n",
    "def _cost_fn_l2(x, y):\n",
    "    \"\"\"\n",
    "    Cost function for l2-metric based OT problem\n",
    "    x, y are sets of dgl graphs - i.e. the GNN activations\n",
    "    \"\"\"\n",
    "    n = len(x)\n",
    "    assert n == len(y)\n",
    "    cost = 0\n",
    "    for i in range(n):\n",
    "        cost += mu.norm(jnp.array(x[i].ndata[\"Feature\"]) - jnp.array(y[i].ndata[\"Feature\"]))\n",
    "    return cost\n",
    "\n",
    "def _get_ot_cost_matrix(X, Y, cost_fn):\n",
    "    \"\"\"\n",
    "    X: lists of lists of dgl graphs\n",
    "    Y: lists of lists of dgl graphs\n",
    "    \"\"\"\n",
    "    cost_matrix = np.zeros((len(X),len(Y)))\n",
    "    for i in tqdm.tqdm(range(len(X))):\n",
    "        for j in range(len(Y)):\n",
    "            cost_matrix[i][j] = cost_fn(X[i], Y[j])\n",
    "    return jnp.array(cost_matrix)\n",
    "\n"
   ]
  },
  {
   "cell_type": "markdown",
   "metadata": {},
   "source": [
    "#### Solving OT Problem"
   ]
  },
  {
   "cell_type": "code",
   "execution_count": 14,
   "metadata": {},
   "outputs": [],
   "source": [
    "def _get_current_transport_map(a, b, X, Y, cost_fn, epsilon = None, tau_a = 1, tau_b = 1, low_rank = False, verbose = False):\n",
    "    \"\"\"\n",
    "    Solve optimal transport problem for activation support for GNN Fusion\n",
    "    \"\"\"\n",
    "    # Define Geometry\n",
    "    cost_matrix = _get_ot_cost_matrix(X, Y, cost_fn)\n",
    "    geom = geometry.Geometry(cost_matrix=cost_matrix, epsilon=epsilon) \n",
    "\n",
    "    # Define Problem\n",
    "    ot_prob = linear_problem.LinearProblem(geom, tau_a=tau_a, tau_b=tau_b)\n",
    "\n",
    "    # Solve Problem       \n",
    "    with tqdm.tqdm() as pbar:\n",
    "        progress_fn = utils.tqdm_progress_fn(pbar)\n",
    "\n",
    "        if low_rank == True:\n",
    "            solve_fn = sinkhorn_lr.LRSinkhorn(rank=int(min(len(x), len(y)) / 2), progress_fn=progress_fn)\n",
    "        else:\n",
    "            solve_fn = sinkhorn.Sinkhorn(progress_fn=progress_fn)\n",
    "            \n",
    "        ot = jax.jit(solve_fn)(ot_prob)\n",
    "\n",
    "    if verbose:\n",
    "        print(\n",
    "        \"\\nSinkhorn has converged: \",\n",
    "        ot.converged,\n",
    "        \"\\n\",\n",
    "        \"-Error upon last iteration: \",\n",
    "        ot.errors[(ot.errors > -1)][-1],\n",
    "        \"\\n\",\n",
    "        \"-Sinkhorn required \",\n",
    "        jnp.sum(ot.errors > -1),\n",
    "        \" iterations to converge. \\n\",\n",
    "        \"-Entropy regularized OT cost: \",\n",
    "        ot.reg_ot_cost,\n",
    "        \"\\n\",\n",
    "        \"-OT cost (without entropy): \",\n",
    "        jnp.sum(ot.matrix * ot.geom.cost_matrix),\n",
    "        )\n",
    "\n",
    "    return ot"
   ]
  },
  {
   "cell_type": "markdown",
   "metadata": {},
   "source": [
    "#### Applying OT with Different Metrics"
   ]
  },
  {
   "cell_type": "code",
   "execution_count": 16,
   "metadata": {},
   "outputs": [
    {
     "name": "stderr",
     "output_type": "stream",
     "text": [
      "100%|██████████| 5/5 [00:00<00:00,  9.50it/s]\n",
      " 20%|██        | 41/200 [00:00<00:02, 56.07it/s, error: 9.870529e-04]"
     ]
    },
    {
     "name": "stdout",
     "output_type": "stream",
     "text": [
      "\n",
      "Sinkhorn has converged:  True \n",
      " -Error upon last iteration:  0.0009870529 \n",
      " -Sinkhorn required  41  iterations to converge. \n",
      " -Entropy regularized OT cost:  4.5326858 \n",
      " -OT cost (without entropy):  4.5143743\n"
     ]
    },
    {
     "name": "stderr",
     "output_type": "stream",
     "text": [
      "\n"
     ]
    },
    {
     "data": {
      "text/plain": [
       "<matplotlib.colorbar.Colorbar at 0x7f8a7c71da90>"
      ]
     },
     "execution_count": 16,
     "metadata": {},
     "output_type": "execute_result"
    },
    {
     "data": {
      "image/png": "[encoded data removed]",
      "text/plain": [
       "<Figure size 640x480 with 2 Axes>"
      ]
     },
     "metadata": {},
     "output_type": "display_data"
    }
   ],
   "source": [
    "# EUCLEDEAN GEOMETRY - NO GRAPH INFORMATION\n",
    "ot = _get_current_transport_map(a, b, X, Y, cost_fn = _cost_fn_l2, epsilon=0.01, verbose=True)\n",
    "plt.imshow(ot.matrix)\n",
    "plt.colorbar()"
   ]
  },
  {
   "cell_type": "code",
   "execution_count": 19,
   "metadata": {},
   "outputs": [
    {
     "name": "stderr",
     "output_type": "stream",
     "text": [
      "100%|██████████| 5/5 [05:28<00:00, 65.61s/it]\n",
      " 20%|██        | 41/200 [00:00<00:02, 58.72it/s, error: 9.807795e-04]"
     ]
    },
    {
     "name": "stdout",
     "output_type": "stream",
     "text": [
      "\n",
      "Sinkhorn has converged:  True \n",
      " -Error upon last iteration:  0.0009807795 \n",
      " -Sinkhorn required  41  iterations to converge. \n",
      " -Entropy regularized OT cost:  1.1307063 \n",
      " -OT cost (without entropy):  0.9689211\n"
     ]
    },
    {
     "name": "stderr",
     "output_type": "stream",
     "text": [
      "\n"
     ]
    },
    {
     "data": {
      "text/plain": [
       "<matplotlib.colorbar.Colorbar at 0x7f8a67411460>"
      ]
     },
     "execution_count": 19,
     "metadata": {},
     "output_type": "execute_result"
    },
    {
     "data": {
      "image/png": "[encoded data removed]",
      "text/plain": [
       "<Figure size 640x480 with 2 Axes>"
      ]
     },
     "metadata": {},
     "output_type": "display_data"
    }
   ],
   "source": [
    "# GW DISTANCE GEOEMTRY - GRAPH INFORMATION\n",
    "cost_GW = lambda x, y: _cost_fn_l2_GW(x, y, _graph_metric_GW)\n",
    "ot = _get_current_transport_map(a, b, X, Y, cost_fn = cost_GW, epsilon=0.1, verbose=True)\n",
    "plt.imshow(ot.matrix)\n",
    "plt.colorbar()"
   ]
  },
  {
   "cell_type": "code",
   "execution_count": 18,
   "metadata": {},
   "outputs": [
    {
     "name": "stderr",
     "output_type": "stream",
     "text": [
      "100%|██████████| 5/5 [00:00<00:00, 26.23it/s]\n",
      " 26%|██▌       | 51/200 [00:00<00:02, 72.71it/s, error: 8.819252e-04]"
     ]
    },
    {
     "name": "stdout",
     "output_type": "stream",
     "text": [
      "\n",
      "Sinkhorn has converged:  True \n",
      " -Error upon last iteration:  0.0008819252 \n",
      " -Sinkhorn required  51  iterations to converge. \n",
      " -Entropy regularized OT cost:  7.6816125 \n",
      " -OT cost (without entropy):  7.6742334\n"
     ]
    },
    {
     "name": "stderr",
     "output_type": "stream",
     "text": [
      "\n"
     ]
    },
    {
     "data": {
      "text/plain": [
       "<matplotlib.colorbar.Colorbar at 0x7f8a7c5925b0>"
      ]
     },
     "execution_count": 18,
     "metadata": {},
     "output_type": "execute_result"
    },
    {
     "data": {
      "image/png": "[encoded data removed]",
      "text/plain": [
       "<Figure size 640x480 with 2 Axes>"
      ]
     },
     "metadata": {},
     "output_type": "display_data"
    }
   ],
   "source": [
    "# QE Quadratic Energy GEOEMTRY - GRAPH INFORMATION\n",
    "alpha = 0.5\n",
    "cost_QE = lambda x, y: _cost_fn_l2_QE(x, y, _graph_metric_QE, alpha)\n",
    "ot = _get_current_transport_map(a, b, X, Y, cost_fn = cost_QE, epsilon=0.001, verbose=True)\n",
    "plt.imshow(ot.matrix)\n",
    "plt.colorbar()"
   ]
  },
  {
   "cell_type": "markdown",
   "metadata": {},
   "source": [
    "## DGL Graph Objects"
   ]
  },
  {
   "cell_type": "code",
   "execution_count": 24,
   "metadata": {},
   "outputs": [
    {
     "data": {
      "image/png": "[encoded data removed]",
      "text/plain": [
       "<Figure size 300x200 with 1 Axes>"
      ]
     },
     "metadata": {},
     "output_type": "display_data"
    }
   ],
   "source": [
    "# Create dgl graph\n",
    "g = dgl.graph(([0, 0, 0, 0, 0], [1, 2, 3, 4, 5]), num_nodes=6)\n",
    "options = {\n",
    "    'node_color': 'black',\n",
    "    'node_size': 20,\n",
    "    'width': 1,\n",
    "}\n",
    "\n",
    "# Assign a 3-dimensional node feature vector for each node.\n",
    "g.ndata[\"x\"] = torch.randn(6, 3)\n",
    "g.ndata[\"x\"][0] = torch.tensor([1, 2, 0])\n",
    "\n",
    "# Plot graph\n",
    "G = dgl.to_networkx(g)\n",
    "plt.figure(figsize=[3,2])\n",
    "nx.draw(G, **options)"
   ]
  },
  {
   "cell_type": "code",
   "execution_count": 59,
   "metadata": {},
   "outputs": [],
   "source": [
    "transform = AddReverse()\n",
    "g_undirected = transform(g)"
   ]
  },
  {
   "cell_type": "code",
   "execution_count": 61,
   "metadata": {},
   "outputs": [
    {
     "data": {
      "image/png": "[encoded data removed]",
      "text/plain": [
       "<Figure size 300x200 with 1 Axes>"
      ]
     },
     "metadata": {},
     "output_type": "display_data"
    }
   ],
   "source": [
    "# Plot graph\n",
    "G = dgl.to_networkx(g_undirected)\n",
    "plt.figure(figsize=[3,2])\n",
    "nx.draw(G, **options)"
   ]
  }
 ],
 "metadata": {
  "kernelspec": {
   "display_name": "eth_dsl",
   "language": "python",
   "name": "python3"
  },
  "language_info": {
   "codemirror_mode": {
    "name": "ipython",
    "version": 3
   },
   "file_extension": ".py",
   "mimetype": "text/x-python",
   "name": "python",
   "nbconvert_exporter": "python",
   "pygments_lexer": "ipython3",
   "version": "3.9.16"
  }
 },
 "nbformat": 4,
 "nbformat_minor": 2
}
