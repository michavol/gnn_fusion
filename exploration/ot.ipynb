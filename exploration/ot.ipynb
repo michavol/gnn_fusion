{
 "cells": [
  {
   "cell_type": "code",
   "execution_count": 7,
   "metadata": {},
   "outputs": [],
   "source": [
    "import os\n",
    "\n",
    "os.environ[\"DGLBACKEND\"] = \"pytorch\"\n",
    "import dgl\n",
    "import numpy as np\n",
    "import torch\n",
    "import jax\n",
    "import jax.numpy as jnp\n",
    "import networkx as nx\n",
    "import matplotlib.pyplot as plt\n",
    "\n",
    "from ott import utils\n",
    "from ott.geometry import geometry\n",
    "from ott.solvers.linear import sinkhorn, sinkhorn_lr\n",
    "from ott.problems.linear import linear_problem\n",
    "import tqdm"
   ]
  },
  {
   "cell_type": "markdown",
   "metadata": {},
   "source": [
    "## OT for GNN Fusion"
   ]
  },
  {
   "cell_type": "markdown",
   "metadata": {},
   "source": [
    "### Sample Data"
   ]
  },
  {
   "cell_type": "code",
   "execution_count": 8,
   "metadata": {},
   "outputs": [],
   "source": [
    "# Prepare a possible input for OT problem\n",
    "import random \n",
    "\n",
    "# Create as many graphs as there are data points for generating activations\n",
    "n_data_graphs = 5\n",
    "data_graphs = []\n",
    "X_size = 20 # Corresponds to numbers of rows in convolution weight matrix of source model\n",
    "Y_size = 20 # Corresponds to numbers of rows in convolution weight matrix of target model\n",
    "X = [] # Activations for source\n",
    "Y = [] # Activations for target\n",
    "a = torch.ones(X_size)/X_size\n",
    "b = torch.ones(Y_size)/Y_size\n",
    "\n",
    "for i in range(n_data_graphs):\n",
    "    num_nodes = random.randint(5,10)\n",
    "    edge_indices_1 = [j for j in range(num_nodes)]\n",
    "    edge_indices_2 = [random.randint(0,num_nodes-1) for j in range(num_nodes)]\n",
    "    graph = dgl.graph((edge_indices_1, edge_indices_2), num_nodes=num_nodes)\n",
    "    data_graphs.append(graph)\n",
    "\n",
    "for i in range(X_size):\n",
    "    x = []\n",
    "    for graph in data_graphs:\n",
    "        graph_X = graph.clone()\n",
    "        num_nodes = graph_X.num_nodes()\n",
    "        #graph_X.ndata[\"Feature\"] = torch.randn(num_nodes,1)\n",
    "        graph_X.ndata[\"Feature\"] = torch.ones(num_nodes,1)*i\n",
    "        x.append(graph_X)\n",
    "    X.append(x)\n",
    "\n",
    "for i in range(Y_size):\n",
    "    y = []\n",
    "    for graph in data_graphs:\n",
    "        graph_Y = graph.clone()\n",
    "        num_nodes = graph_Y.num_nodes()\n",
    "        #graph_Y.ndata[\"Feature\"] = torch.randn(num_nodes,1)\n",
    "        graph_Y.ndata[\"Feature\"] = torch.ones(num_nodes,1)*i*1.2\n",
    "        y.append(graph_Y)\n",
    "    Y.append(y)\n"
   ]
  },
  {
   "cell_type": "markdown",
   "metadata": {},
   "source": [
    "### Setup Cost Matrix"
   ]
  },
  {
   "cell_type": "code",
   "execution_count": 9,
   "metadata": {},
   "outputs": [],
   "source": [
    "def _cost_fn_l1(x, y):\n",
    "    n = len(x)\n",
    "    assert n == len(y)\n",
    "    cost = 0\n",
    "    for i in range(n):\n",
    "        cost += torch.norm(x[i].ndata[\"Feature\"] - y[i].ndata[\"Feature\"], dim=0)\n",
    "    return cost"
   ]
  },
  {
   "cell_type": "code",
   "execution_count": 10,
   "metadata": {},
   "outputs": [],
   "source": [
    "def _get_cost_matrix(X, Y, cost_fn):\n",
    "    \"\"\"\n",
    "    X: list of dgl graphs\n",
    "    Y: list of dgl graphs\n",
    "    \"\"\"\n",
    "    cost_matrix = np.zeros((len(X),len(Y)))\n",
    "    for i in range(len(X)):\n",
    "        for j in range(len(Y)):\n",
    "            cost_matrix[i][j] = cost_fn(X[i], Y[j])\n",
    "    return jnp.array(cost_matrix)"
   ]
  },
  {
   "cell_type": "code",
   "execution_count": 11,
   "metadata": {},
   "outputs": [],
   "source": [
    "def _get_current_transport_map(a, b, X, Y, cost_fn, epsilon = None, tau_a = 1, tau_b = 1, low_rank = False, verbose = False):\n",
    "    \"\"\"\n",
    "    Solve optimal transport problem for activation support for GNN Fusion\n",
    "    \"\"\"\n",
    "    # Define Geometry\n",
    "    cost_matrix = _get_cost_matrix(X, Y, cost_fn)\n",
    "    geom = geometry.Geometry(cost_matrix=cost_matrix, epsilon=epsilon) \n",
    "\n",
    "    # Define Problem\n",
    "    ot_prob = linear_problem.LinearProblem(geom, tau_a=tau_a, tau_b=tau_b)\n",
    "\n",
    "    # Solve Problem       \n",
    "    with tqdm.tqdm() as pbar:\n",
    "        progress_fn = utils.tqdm_progress_fn(pbar)\n",
    "\n",
    "        if low_rank == True:\n",
    "            solve_fn = sinkhorn_lr.LRSinkhorn(rank=int(min(len(x), len(y)) / 2), progress_fn=progress_fn)\n",
    "        else:\n",
    "            solve_fn = sinkhorn.Sinkhorn(progress_fn=progress_fn)\n",
    "            \n",
    "        ot = jax.jit(solve_fn)(ot_prob)\n",
    "\n",
    "    if verbose:\n",
    "        print(\n",
    "        \"\\nSinkhorn has converged: \",\n",
    "        ot.converged,\n",
    "        \"\\n\",\n",
    "        \"-Error upon last iteration: \",\n",
    "        ot.errors[(ot.errors > -1)][-1],\n",
    "        \"\\n\",\n",
    "        \"-Sinkhorn required \",\n",
    "        jnp.sum(ot.errors > -1),\n",
    "        \" iterations to converge. \\n\",\n",
    "        \"-Entropy regularized OT cost: \",\n",
    "        ot.reg_ot_cost,\n",
    "        \"\\n\",\n",
    "        \"-OT cost (without entropy): \",\n",
    "        jnp.sum(ot.matrix * ot.geom.cost_matrix),\n",
    "        )\n",
    "\n",
    "    return ot"
   ]
  },
  {
   "cell_type": "code",
   "execution_count": 12,
   "metadata": {},
   "outputs": [
    {
     "name": "stderr",
     "output_type": "stream",
     "text": [
      "100%|██████████| 200/200 [00:00<00:00, 434.56it/s, error: 3.000876e-01]"
     ]
    },
    {
     "name": "stdout",
     "output_type": "stream",
     "text": [
      "\n",
      "Sinkhorn has converged:  False \n",
      " -Error upon last iteration:  0.30008757 \n",
      " -Sinkhorn required  200  iterations to converge. \n",
      " -Entropy regularized OT cost:  8.802576 \n",
      " -OT cost (without entropy):  5.010608\n"
     ]
    },
    {
     "name": "stderr",
     "output_type": "stream",
     "text": [
      "\n"
     ]
    },
    {
     "data": {
      "text/plain": [
       "<matplotlib.colorbar.Colorbar at 0x7f627c4bb970>"
      ]
     },
     "execution_count": 12,
     "metadata": {},
     "output_type": "execute_result"
    },
    {
     "data": {
      "image/png": "[encoded data removed]",
      "text/plain": [
       "<Figure size 640x480 with 2 Axes>"
      ]
     },
     "metadata": {},
     "output_type": "display_data"
    }
   ],
   "source": [
    "ot = _get_current_transport_map(a, b, X, Y, cost_fn = _cost_fn_l1, epsilon=0.001, verbose=True)\n",
    "plt.imshow(ot.matrix)\n",
    "plt.colorbar()"
   ]
  },
  {
   "cell_type": "markdown",
   "metadata": {},
   "source": [
    "## DGL Graph Objects"
   ]
  },
  {
   "cell_type": "code",
   "execution_count": 13,
   "metadata": {},
   "outputs": [
    {
     "data": {
      "image/png": "[encoded data removed]",
      "text/plain": [
       "<Figure size 300x200 with 1 Axes>"
      ]
     },
     "metadata": {},
     "output_type": "display_data"
    }
   ],
   "source": [
    "# Create dgl graph\n",
    "g = dgl.graph(([0, 0, 0, 0, 0], [1, 2, 3, 4, 5]), num_nodes=6)\n",
    "options = {\n",
    "    'node_color': 'black',\n",
    "    'node_size': 20,\n",
    "    'width': 1,\n",
    "}\n",
    "\n",
    "# Assign a 3-dimensional node feature vector for each node.\n",
    "g.ndata[\"x\"] = torch.randn(6, 3)\n",
    "g.ndata[\"x\"][0] = torch.tensor([1, 2, 0])\n",
    "\n",
    "# Plot graph\n",
    "G = dgl.to_networkx(g)\n",
    "plt.figure(figsize=[3,2])\n",
    "nx.draw(G, **options)"
   ]
  }
 ],
 "metadata": {
  "kernelspec": {
   "display_name": "eth_dsl",
   "language": "python",
   "name": "python3"
  },
  "language_info": {
   "codemirror_mode": {
    "name": "ipython",
    "version": 3
   },
   "file_extension": ".py",
   "mimetype": "text/x-python",
   "name": "python",
   "nbconvert_exporter": "python",
   "pygments_lexer": "ipython3",
   "version": "3.9.16"
  }
 },
 "nbformat": 4,
 "nbformat_minor": 2
}
